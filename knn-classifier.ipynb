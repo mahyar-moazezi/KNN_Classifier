{
 "cells": [
  {
   "cell_type": "code",
   "execution_count": 1,
   "id": "298e0fa8",
   "metadata": {
    "_cell_guid": "b1076dfc-b9ad-4769-8c92-a6c4dae69d19",
    "_uuid": "8f2839f25d086af736a60e9eeb907d3b93b6e0e5",
    "execution": {
     "iopub.execute_input": "2023-05-24T04:19:03.412736Z",
     "iopub.status.busy": "2023-05-24T04:19:03.412299Z",
     "iopub.status.idle": "2023-05-24T04:19:03.431384Z",
     "shell.execute_reply": "2023-05-24T04:19:03.430234Z"
    },
    "papermill": {
     "duration": 0.029874,
     "end_time": "2023-05-24T04:19:03.433482",
     "exception": false,
     "start_time": "2023-05-24T04:19:03.403608",
     "status": "completed"
    },
    "tags": []
   },
   "outputs": [
    {
     "name": "stdout",
     "output_type": "stream",
     "text": [
      "/kaggle/input/breast-cancer-dataset/breast-cancer.csv\n"
     ]
    }
   ],
   "source": [
    "# This Python 3 environment comes with many helpful analytics libraries installed\n",
    "# It is defined by the kaggle/python Docker image: https://github.com/kaggle/docker-python\n",
    "# For example, here's several helpful packages to load\n",
    "\n",
    "import numpy as np # linear algebra\n",
    "import pandas as pd # data processing, CSV file I/O (e.g. pd.read_csv)\n",
    "\n",
    "# Input data files are available in the read-only \"../input/\" directory\n",
    "# For example, running this (by clicking run or pressing Shift+Enter) will list all files under the input directory\n",
    "\n",
    "import os\n",
    "for dirname, _, filenames in os.walk('/kaggle/input'):\n",
    "    for filename in filenames:\n",
    "        print(os.path.join(dirname, filename))\n",
    "\n",
    "# You can write up to 20GB to the current directory (/kaggle/working/) that gets preserved as output when you create a version using \"Save & Run All\" \n",
    "# You can also write temporary files to /kaggle/temp/, but they won't be saved outside of the current session"
   ]
  },
  {
   "cell_type": "markdown",
   "id": "e9a51aca",
   "metadata": {
    "papermill": {
     "duration": 0.006231,
     "end_time": "2023-05-24T04:19:03.446352",
     "exception": false,
     "start_time": "2023-05-24T04:19:03.440121",
     "status": "completed"
    },
    "tags": []
   },
   "source": [
    "**K Nearest Neighbors Project**\n",
    "\n",
    "Welcome to my KNN project! It's an implementation of the KNN method by using SkLearn."
   ]
  },
  {
   "cell_type": "markdown",
   "id": "e6c60cfe",
   "metadata": {
    "papermill": {
     "duration": 0.005803,
     "end_time": "2023-05-24T04:19:03.458380",
     "exception": false,
     "start_time": "2023-05-24T04:19:03.452577",
     "status": "completed"
    },
    "tags": []
   },
   "source": [
    "**Import Libraries**"
   ]
  },
  {
   "cell_type": "code",
   "execution_count": 2,
   "id": "b8a8e9e9",
   "metadata": {
    "execution": {
     "iopub.execute_input": "2023-05-24T04:19:03.472632Z",
     "iopub.status.busy": "2023-05-24T04:19:03.472070Z",
     "iopub.status.idle": "2023-05-24T04:19:03.477658Z",
     "shell.execute_reply": "2023-05-24T04:19:03.476239Z"
    },
    "papermill": {
     "duration": 0.015412,
     "end_time": "2023-05-24T04:19:03.479968",
     "exception": false,
     "start_time": "2023-05-24T04:19:03.464556",
     "status": "completed"
    },
    "tags": []
   },
   "outputs": [],
   "source": [
    "import pandas as pd\n",
    "import numpy as np\n",
    "import matplotlib.pyplot as plt\n",
    "%matplotlib inline"
   ]
  },
  {
   "cell_type": "markdown",
   "id": "5fd27a18",
   "metadata": {
    "papermill": {
     "duration": 0.005707,
     "end_time": "2023-05-24T04:19:03.492102",
     "exception": false,
     "start_time": "2023-05-24T04:19:03.486395",
     "status": "completed"
    },
    "tags": []
   },
   "source": [
    "**Get the Data**"
   ]
  },
  {
   "cell_type": "code",
   "execution_count": 3,
   "id": "3b4d5afb",
   "metadata": {
    "execution": {
     "iopub.execute_input": "2023-05-24T04:19:03.505620Z",
     "iopub.status.busy": "2023-05-24T04:19:03.505242Z",
     "iopub.status.idle": "2023-05-24T04:19:03.572993Z",
     "shell.execute_reply": "2023-05-24T04:19:03.571919Z"
    },
    "papermill": {
     "duration": 0.077337,
     "end_time": "2023-05-24T04:19:03.575376",
     "exception": false,
     "start_time": "2023-05-24T04:19:03.498039",
     "status": "completed"
    },
    "tags": []
   },
   "outputs": [
    {
     "data": {
      "text/html": [
       "<div>\n",
       "<style scoped>\n",
       "    .dataframe tbody tr th:only-of-type {\n",
       "        vertical-align: middle;\n",
       "    }\n",
       "\n",
       "    .dataframe tbody tr th {\n",
       "        vertical-align: top;\n",
       "    }\n",
       "\n",
       "    .dataframe thead th {\n",
       "        text-align: right;\n",
       "    }\n",
       "</style>\n",
       "<table border=\"1\" class=\"dataframe\">\n",
       "  <thead>\n",
       "    <tr style=\"text-align: right;\">\n",
       "      <th></th>\n",
       "      <th>id</th>\n",
       "      <th>diagnosis</th>\n",
       "      <th>radius_mean</th>\n",
       "      <th>texture_mean</th>\n",
       "      <th>perimeter_mean</th>\n",
       "      <th>area_mean</th>\n",
       "      <th>smoothness_mean</th>\n",
       "      <th>compactness_mean</th>\n",
       "      <th>concavity_mean</th>\n",
       "      <th>concave points_mean</th>\n",
       "      <th>...</th>\n",
       "      <th>radius_worst</th>\n",
       "      <th>texture_worst</th>\n",
       "      <th>perimeter_worst</th>\n",
       "      <th>area_worst</th>\n",
       "      <th>smoothness_worst</th>\n",
       "      <th>compactness_worst</th>\n",
       "      <th>concavity_worst</th>\n",
       "      <th>concave points_worst</th>\n",
       "      <th>symmetry_worst</th>\n",
       "      <th>fractal_dimension_worst</th>\n",
       "    </tr>\n",
       "  </thead>\n",
       "  <tbody>\n",
       "    <tr>\n",
       "      <th>0</th>\n",
       "      <td>842302</td>\n",
       "      <td>M</td>\n",
       "      <td>17.99</td>\n",
       "      <td>10.38</td>\n",
       "      <td>122.80</td>\n",
       "      <td>1001.0</td>\n",
       "      <td>0.11840</td>\n",
       "      <td>0.27760</td>\n",
       "      <td>0.3001</td>\n",
       "      <td>0.14710</td>\n",
       "      <td>...</td>\n",
       "      <td>25.38</td>\n",
       "      <td>17.33</td>\n",
       "      <td>184.60</td>\n",
       "      <td>2019.0</td>\n",
       "      <td>0.1622</td>\n",
       "      <td>0.6656</td>\n",
       "      <td>0.7119</td>\n",
       "      <td>0.2654</td>\n",
       "      <td>0.4601</td>\n",
       "      <td>0.11890</td>\n",
       "    </tr>\n",
       "    <tr>\n",
       "      <th>1</th>\n",
       "      <td>842517</td>\n",
       "      <td>M</td>\n",
       "      <td>20.57</td>\n",
       "      <td>17.77</td>\n",
       "      <td>132.90</td>\n",
       "      <td>1326.0</td>\n",
       "      <td>0.08474</td>\n",
       "      <td>0.07864</td>\n",
       "      <td>0.0869</td>\n",
       "      <td>0.07017</td>\n",
       "      <td>...</td>\n",
       "      <td>24.99</td>\n",
       "      <td>23.41</td>\n",
       "      <td>158.80</td>\n",
       "      <td>1956.0</td>\n",
       "      <td>0.1238</td>\n",
       "      <td>0.1866</td>\n",
       "      <td>0.2416</td>\n",
       "      <td>0.1860</td>\n",
       "      <td>0.2750</td>\n",
       "      <td>0.08902</td>\n",
       "    </tr>\n",
       "    <tr>\n",
       "      <th>2</th>\n",
       "      <td>84300903</td>\n",
       "      <td>M</td>\n",
       "      <td>19.69</td>\n",
       "      <td>21.25</td>\n",
       "      <td>130.00</td>\n",
       "      <td>1203.0</td>\n",
       "      <td>0.10960</td>\n",
       "      <td>0.15990</td>\n",
       "      <td>0.1974</td>\n",
       "      <td>0.12790</td>\n",
       "      <td>...</td>\n",
       "      <td>23.57</td>\n",
       "      <td>25.53</td>\n",
       "      <td>152.50</td>\n",
       "      <td>1709.0</td>\n",
       "      <td>0.1444</td>\n",
       "      <td>0.4245</td>\n",
       "      <td>0.4504</td>\n",
       "      <td>0.2430</td>\n",
       "      <td>0.3613</td>\n",
       "      <td>0.08758</td>\n",
       "    </tr>\n",
       "    <tr>\n",
       "      <th>3</th>\n",
       "      <td>84348301</td>\n",
       "      <td>M</td>\n",
       "      <td>11.42</td>\n",
       "      <td>20.38</td>\n",
       "      <td>77.58</td>\n",
       "      <td>386.1</td>\n",
       "      <td>0.14250</td>\n",
       "      <td>0.28390</td>\n",
       "      <td>0.2414</td>\n",
       "      <td>0.10520</td>\n",
       "      <td>...</td>\n",
       "      <td>14.91</td>\n",
       "      <td>26.50</td>\n",
       "      <td>98.87</td>\n",
       "      <td>567.7</td>\n",
       "      <td>0.2098</td>\n",
       "      <td>0.8663</td>\n",
       "      <td>0.6869</td>\n",
       "      <td>0.2575</td>\n",
       "      <td>0.6638</td>\n",
       "      <td>0.17300</td>\n",
       "    </tr>\n",
       "    <tr>\n",
       "      <th>4</th>\n",
       "      <td>84358402</td>\n",
       "      <td>M</td>\n",
       "      <td>20.29</td>\n",
       "      <td>14.34</td>\n",
       "      <td>135.10</td>\n",
       "      <td>1297.0</td>\n",
       "      <td>0.10030</td>\n",
       "      <td>0.13280</td>\n",
       "      <td>0.1980</td>\n",
       "      <td>0.10430</td>\n",
       "      <td>...</td>\n",
       "      <td>22.54</td>\n",
       "      <td>16.67</td>\n",
       "      <td>152.20</td>\n",
       "      <td>1575.0</td>\n",
       "      <td>0.1374</td>\n",
       "      <td>0.2050</td>\n",
       "      <td>0.4000</td>\n",
       "      <td>0.1625</td>\n",
       "      <td>0.2364</td>\n",
       "      <td>0.07678</td>\n",
       "    </tr>\n",
       "  </tbody>\n",
       "</table>\n",
       "<p>5 rows × 32 columns</p>\n",
       "</div>"
      ],
      "text/plain": [
       "         id diagnosis  radius_mean  texture_mean  perimeter_mean  area_mean  \\\n",
       "0    842302         M        17.99         10.38          122.80     1001.0   \n",
       "1    842517         M        20.57         17.77          132.90     1326.0   \n",
       "2  84300903         M        19.69         21.25          130.00     1203.0   \n",
       "3  84348301         M        11.42         20.38           77.58      386.1   \n",
       "4  84358402         M        20.29         14.34          135.10     1297.0   \n",
       "\n",
       "   smoothness_mean  compactness_mean  concavity_mean  concave points_mean  \\\n",
       "0          0.11840           0.27760          0.3001              0.14710   \n",
       "1          0.08474           0.07864          0.0869              0.07017   \n",
       "2          0.10960           0.15990          0.1974              0.12790   \n",
       "3          0.14250           0.28390          0.2414              0.10520   \n",
       "4          0.10030           0.13280          0.1980              0.10430   \n",
       "\n",
       "   ...  radius_worst  texture_worst  perimeter_worst  area_worst  \\\n",
       "0  ...         25.38          17.33           184.60      2019.0   \n",
       "1  ...         24.99          23.41           158.80      1956.0   \n",
       "2  ...         23.57          25.53           152.50      1709.0   \n",
       "3  ...         14.91          26.50            98.87       567.7   \n",
       "4  ...         22.54          16.67           152.20      1575.0   \n",
       "\n",
       "   smoothness_worst  compactness_worst  concavity_worst  concave points_worst  \\\n",
       "0            0.1622             0.6656           0.7119                0.2654   \n",
       "1            0.1238             0.1866           0.2416                0.1860   \n",
       "2            0.1444             0.4245           0.4504                0.2430   \n",
       "3            0.2098             0.8663           0.6869                0.2575   \n",
       "4            0.1374             0.2050           0.4000                0.1625   \n",
       "\n",
       "   symmetry_worst  fractal_dimension_worst  \n",
       "0          0.4601                  0.11890  \n",
       "1          0.2750                  0.08902  \n",
       "2          0.3613                  0.08758  \n",
       "3          0.6638                  0.17300  \n",
       "4          0.2364                  0.07678  \n",
       "\n",
       "[5 rows x 32 columns]"
      ]
     },
     "execution_count": 3,
     "metadata": {},
     "output_type": "execute_result"
    }
   ],
   "source": [
    "breast_cancer = pd.read_csv(\"/kaggle/input/breast-cancer-dataset/breast-cancer.csv\")\n",
    "breast_cancer.head()"
   ]
  },
  {
   "cell_type": "markdown",
   "id": "776aaada",
   "metadata": {
    "papermill": {
     "duration": 0.006067,
     "end_time": "2023-05-24T04:19:03.588169",
     "exception": false,
     "start_time": "2023-05-24T04:19:03.582102",
     "status": "completed"
    },
    "tags": []
   },
   "source": [
    "**Add a new diagnosis class column**"
   ]
  },
  {
   "cell_type": "code",
   "execution_count": 4,
   "id": "b5f868fc",
   "metadata": {
    "execution": {
     "iopub.execute_input": "2023-05-24T04:19:03.602886Z",
     "iopub.status.busy": "2023-05-24T04:19:03.601912Z",
     "iopub.status.idle": "2023-05-24T04:19:03.628265Z",
     "shell.execute_reply": "2023-05-24T04:19:03.627381Z"
    },
    "papermill": {
     "duration": 0.035703,
     "end_time": "2023-05-24T04:19:03.630126",
     "exception": false,
     "start_time": "2023-05-24T04:19:03.594423",
     "status": "completed"
    },
    "tags": []
   },
   "outputs": [
    {
     "data": {
      "text/html": [
       "<div>\n",
       "<style scoped>\n",
       "    .dataframe tbody tr th:only-of-type {\n",
       "        vertical-align: middle;\n",
       "    }\n",
       "\n",
       "    .dataframe tbody tr th {\n",
       "        vertical-align: top;\n",
       "    }\n",
       "\n",
       "    .dataframe thead th {\n",
       "        text-align: right;\n",
       "    }\n",
       "</style>\n",
       "<table border=\"1\" class=\"dataframe\">\n",
       "  <thead>\n",
       "    <tr style=\"text-align: right;\">\n",
       "      <th></th>\n",
       "      <th>id</th>\n",
       "      <th>radius_mean</th>\n",
       "      <th>texture_mean</th>\n",
       "      <th>perimeter_mean</th>\n",
       "      <th>area_mean</th>\n",
       "      <th>smoothness_mean</th>\n",
       "      <th>compactness_mean</th>\n",
       "      <th>concavity_mean</th>\n",
       "      <th>concave points_mean</th>\n",
       "      <th>symmetry_mean</th>\n",
       "      <th>...</th>\n",
       "      <th>texture_worst</th>\n",
       "      <th>perimeter_worst</th>\n",
       "      <th>area_worst</th>\n",
       "      <th>smoothness_worst</th>\n",
       "      <th>compactness_worst</th>\n",
       "      <th>concavity_worst</th>\n",
       "      <th>concave points_worst</th>\n",
       "      <th>symmetry_worst</th>\n",
       "      <th>fractal_dimension_worst</th>\n",
       "      <th>diagnosis_class</th>\n",
       "    </tr>\n",
       "  </thead>\n",
       "  <tbody>\n",
       "    <tr>\n",
       "      <th>0</th>\n",
       "      <td>842302</td>\n",
       "      <td>17.99</td>\n",
       "      <td>10.38</td>\n",
       "      <td>122.80</td>\n",
       "      <td>1001.0</td>\n",
       "      <td>0.11840</td>\n",
       "      <td>0.27760</td>\n",
       "      <td>0.3001</td>\n",
       "      <td>0.14710</td>\n",
       "      <td>0.2419</td>\n",
       "      <td>...</td>\n",
       "      <td>17.33</td>\n",
       "      <td>184.60</td>\n",
       "      <td>2019.0</td>\n",
       "      <td>0.1622</td>\n",
       "      <td>0.6656</td>\n",
       "      <td>0.7119</td>\n",
       "      <td>0.2654</td>\n",
       "      <td>0.4601</td>\n",
       "      <td>0.11890</td>\n",
       "      <td>1</td>\n",
       "    </tr>\n",
       "    <tr>\n",
       "      <th>1</th>\n",
       "      <td>842517</td>\n",
       "      <td>20.57</td>\n",
       "      <td>17.77</td>\n",
       "      <td>132.90</td>\n",
       "      <td>1326.0</td>\n",
       "      <td>0.08474</td>\n",
       "      <td>0.07864</td>\n",
       "      <td>0.0869</td>\n",
       "      <td>0.07017</td>\n",
       "      <td>0.1812</td>\n",
       "      <td>...</td>\n",
       "      <td>23.41</td>\n",
       "      <td>158.80</td>\n",
       "      <td>1956.0</td>\n",
       "      <td>0.1238</td>\n",
       "      <td>0.1866</td>\n",
       "      <td>0.2416</td>\n",
       "      <td>0.1860</td>\n",
       "      <td>0.2750</td>\n",
       "      <td>0.08902</td>\n",
       "      <td>1</td>\n",
       "    </tr>\n",
       "    <tr>\n",
       "      <th>2</th>\n",
       "      <td>84300903</td>\n",
       "      <td>19.69</td>\n",
       "      <td>21.25</td>\n",
       "      <td>130.00</td>\n",
       "      <td>1203.0</td>\n",
       "      <td>0.10960</td>\n",
       "      <td>0.15990</td>\n",
       "      <td>0.1974</td>\n",
       "      <td>0.12790</td>\n",
       "      <td>0.2069</td>\n",
       "      <td>...</td>\n",
       "      <td>25.53</td>\n",
       "      <td>152.50</td>\n",
       "      <td>1709.0</td>\n",
       "      <td>0.1444</td>\n",
       "      <td>0.4245</td>\n",
       "      <td>0.4504</td>\n",
       "      <td>0.2430</td>\n",
       "      <td>0.3613</td>\n",
       "      <td>0.08758</td>\n",
       "      <td>1</td>\n",
       "    </tr>\n",
       "    <tr>\n",
       "      <th>3</th>\n",
       "      <td>84348301</td>\n",
       "      <td>11.42</td>\n",
       "      <td>20.38</td>\n",
       "      <td>77.58</td>\n",
       "      <td>386.1</td>\n",
       "      <td>0.14250</td>\n",
       "      <td>0.28390</td>\n",
       "      <td>0.2414</td>\n",
       "      <td>0.10520</td>\n",
       "      <td>0.2597</td>\n",
       "      <td>...</td>\n",
       "      <td>26.50</td>\n",
       "      <td>98.87</td>\n",
       "      <td>567.7</td>\n",
       "      <td>0.2098</td>\n",
       "      <td>0.8663</td>\n",
       "      <td>0.6869</td>\n",
       "      <td>0.2575</td>\n",
       "      <td>0.6638</td>\n",
       "      <td>0.17300</td>\n",
       "      <td>1</td>\n",
       "    </tr>\n",
       "    <tr>\n",
       "      <th>4</th>\n",
       "      <td>84358402</td>\n",
       "      <td>20.29</td>\n",
       "      <td>14.34</td>\n",
       "      <td>135.10</td>\n",
       "      <td>1297.0</td>\n",
       "      <td>0.10030</td>\n",
       "      <td>0.13280</td>\n",
       "      <td>0.1980</td>\n",
       "      <td>0.10430</td>\n",
       "      <td>0.1809</td>\n",
       "      <td>...</td>\n",
       "      <td>16.67</td>\n",
       "      <td>152.20</td>\n",
       "      <td>1575.0</td>\n",
       "      <td>0.1374</td>\n",
       "      <td>0.2050</td>\n",
       "      <td>0.4000</td>\n",
       "      <td>0.1625</td>\n",
       "      <td>0.2364</td>\n",
       "      <td>0.07678</td>\n",
       "      <td>1</td>\n",
       "    </tr>\n",
       "  </tbody>\n",
       "</table>\n",
       "<p>5 rows × 32 columns</p>\n",
       "</div>"
      ],
      "text/plain": [
       "         id  radius_mean  texture_mean  perimeter_mean  area_mean  \\\n",
       "0    842302        17.99         10.38          122.80     1001.0   \n",
       "1    842517        20.57         17.77          132.90     1326.0   \n",
       "2  84300903        19.69         21.25          130.00     1203.0   \n",
       "3  84348301        11.42         20.38           77.58      386.1   \n",
       "4  84358402        20.29         14.34          135.10     1297.0   \n",
       "\n",
       "   smoothness_mean  compactness_mean  concavity_mean  concave points_mean  \\\n",
       "0          0.11840           0.27760          0.3001              0.14710   \n",
       "1          0.08474           0.07864          0.0869              0.07017   \n",
       "2          0.10960           0.15990          0.1974              0.12790   \n",
       "3          0.14250           0.28390          0.2414              0.10520   \n",
       "4          0.10030           0.13280          0.1980              0.10430   \n",
       "\n",
       "   symmetry_mean  ...  texture_worst  perimeter_worst  area_worst  \\\n",
       "0         0.2419  ...          17.33           184.60      2019.0   \n",
       "1         0.1812  ...          23.41           158.80      1956.0   \n",
       "2         0.2069  ...          25.53           152.50      1709.0   \n",
       "3         0.2597  ...          26.50            98.87       567.7   \n",
       "4         0.1809  ...          16.67           152.20      1575.0   \n",
       "\n",
       "   smoothness_worst  compactness_worst  concavity_worst  concave points_worst  \\\n",
       "0            0.1622             0.6656           0.7119                0.2654   \n",
       "1            0.1238             0.1866           0.2416                0.1860   \n",
       "2            0.1444             0.4245           0.4504                0.2430   \n",
       "3            0.2098             0.8663           0.6869                0.2575   \n",
       "4            0.1374             0.2050           0.4000                0.1625   \n",
       "\n",
       "   symmetry_worst  fractal_dimension_worst  diagnosis_class  \n",
       "0          0.4601                  0.11890                1  \n",
       "1          0.2750                  0.08902                1  \n",
       "2          0.3613                  0.08758                1  \n",
       "3          0.6638                  0.17300                1  \n",
       "4          0.2364                  0.07678                1  \n",
       "\n",
       "[5 rows x 32 columns]"
      ]
     },
     "execution_count": 4,
     "metadata": {},
     "output_type": "execute_result"
    }
   ],
   "source": [
    "def diag(value):\n",
    "    if value == \"M\":\n",
    "        return 1\n",
    "    else:\n",
    "        return 0\n",
    "breast_cancer[\"diagnosis_class\"] = breast_cancer[\"diagnosis\"].apply(diag)\n",
    "del breast_cancer[\"diagnosis\"]\n",
    "breast_cancer.head()\n"
   ]
  },
  {
   "cell_type": "markdown",
   "id": "71d3d02c",
   "metadata": {
    "papermill": {
     "duration": 0.006433,
     "end_time": "2023-05-24T04:19:03.643457",
     "exception": false,
     "start_time": "2023-05-24T04:19:03.637024",
     "status": "completed"
    },
    "tags": []
   },
   "source": [
    "**Standardize the Variables**"
   ]
  },
  {
   "cell_type": "code",
   "execution_count": 5,
   "id": "45171618",
   "metadata": {
    "execution": {
     "iopub.execute_input": "2023-05-24T04:19:03.658972Z",
     "iopub.status.busy": "2023-05-24T04:19:03.657977Z",
     "iopub.status.idle": "2023-05-24T04:19:04.744428Z",
     "shell.execute_reply": "2023-05-24T04:19:04.743191Z"
    },
    "papermill": {
     "duration": 1.097035,
     "end_time": "2023-05-24T04:19:04.747218",
     "exception": false,
     "start_time": "2023-05-24T04:19:03.650183",
     "status": "completed"
    },
    "tags": []
   },
   "outputs": [
    {
     "name": "stderr",
     "output_type": "stream",
     "text": [
      "/opt/conda/lib/python3.10/site-packages/scipy/__init__.py:146: UserWarning: A NumPy version >=1.16.5 and <1.23.0 is required for this version of SciPy (detected version 1.23.5\n",
      "  warnings.warn(f\"A NumPy version >={np_minversion} and <{np_maxversion}\"\n"
     ]
    }
   ],
   "source": [
    "from sklearn.preprocessing import StandardScaler"
   ]
  },
  {
   "cell_type": "code",
   "execution_count": 6,
   "id": "bf2976e5",
   "metadata": {
    "execution": {
     "iopub.execute_input": "2023-05-24T04:19:04.762282Z",
     "iopub.status.busy": "2023-05-24T04:19:04.761925Z",
     "iopub.status.idle": "2023-05-24T04:19:04.766414Z",
     "shell.execute_reply": "2023-05-24T04:19:04.765351Z"
    },
    "papermill": {
     "duration": 0.014413,
     "end_time": "2023-05-24T04:19:04.768536",
     "exception": false,
     "start_time": "2023-05-24T04:19:04.754123",
     "status": "completed"
    },
    "tags": []
   },
   "outputs": [],
   "source": [
    "scaler = StandardScaler()"
   ]
  },
  {
   "cell_type": "code",
   "execution_count": 7,
   "id": "f5fc7624",
   "metadata": {
    "execution": {
     "iopub.execute_input": "2023-05-24T04:19:04.784225Z",
     "iopub.status.busy": "2023-05-24T04:19:04.783876Z",
     "iopub.status.idle": "2023-05-24T04:19:04.796114Z",
     "shell.execute_reply": "2023-05-24T04:19:04.795304Z"
    },
    "papermill": {
     "duration": 0.022105,
     "end_time": "2023-05-24T04:19:04.797879",
     "exception": false,
     "start_time": "2023-05-24T04:19:04.775774",
     "status": "completed"
    },
    "tags": []
   },
   "outputs": [],
   "source": [
    "X = breast_cancer.drop(\"diagnosis_class\",axis=1)\n",
    "y = breast_cancer[\"diagnosis_class\"]\n",
    "\n",
    "fit_scaler = scaler.fit(breast_cancer.drop(\"diagnosis_class\",axis=1))"
   ]
  },
  {
   "cell_type": "code",
   "execution_count": 8,
   "id": "6299dd45",
   "metadata": {
    "execution": {
     "iopub.execute_input": "2023-05-24T04:19:04.815410Z",
     "iopub.status.busy": "2023-05-24T04:19:04.814753Z",
     "iopub.status.idle": "2023-05-24T04:19:04.821479Z",
     "shell.execute_reply": "2023-05-24T04:19:04.820886Z"
    },
    "papermill": {
     "duration": 0.018456,
     "end_time": "2023-05-24T04:19:04.823423",
     "exception": false,
     "start_time": "2023-05-24T04:19:04.804967",
     "status": "completed"
    },
    "tags": []
   },
   "outputs": [],
   "source": [
    "tr_fit_scaler = fit_scaler.transform(breast_cancer.drop(\"diagnosis_class\",axis=1))"
   ]
  },
  {
   "cell_type": "markdown",
   "id": "d789c86f",
   "metadata": {
    "papermill": {
     "duration": 0.006706,
     "end_time": "2023-05-24T04:19:04.838141",
     "exception": false,
     "start_time": "2023-05-24T04:19:04.831435",
     "status": "completed"
    },
    "tags": []
   },
   "source": [
    "**Train Test Split**"
   ]
  },
  {
   "cell_type": "code",
   "execution_count": 9,
   "id": "4ab320c1",
   "metadata": {
    "execution": {
     "iopub.execute_input": "2023-05-24T04:19:04.853529Z",
     "iopub.status.busy": "2023-05-24T04:19:04.852948Z",
     "iopub.status.idle": "2023-05-24T04:19:04.959400Z",
     "shell.execute_reply": "2023-05-24T04:19:04.958476Z"
    },
    "papermill": {
     "duration": 0.117034,
     "end_time": "2023-05-24T04:19:04.962157",
     "exception": false,
     "start_time": "2023-05-24T04:19:04.845123",
     "status": "completed"
    },
    "tags": []
   },
   "outputs": [],
   "source": [
    "from sklearn.model_selection import train_test_split"
   ]
  },
  {
   "cell_type": "code",
   "execution_count": 10,
   "id": "8524808a",
   "metadata": {
    "execution": {
     "iopub.execute_input": "2023-05-24T04:19:04.977210Z",
     "iopub.status.busy": "2023-05-24T04:19:04.976878Z",
     "iopub.status.idle": "2023-05-24T04:19:04.983306Z",
     "shell.execute_reply": "2023-05-24T04:19:04.982696Z"
    },
    "papermill": {
     "duration": 0.01584,
     "end_time": "2023-05-24T04:19:04.984980",
     "exception": false,
     "start_time": "2023-05-24T04:19:04.969140",
     "status": "completed"
    },
    "tags": []
   },
   "outputs": [],
   "source": [
    "X_train, X_test, y_train, y_test = train_test_split(X, y, test_size=0.33, random_state=101)"
   ]
  },
  {
   "cell_type": "markdown",
   "id": "fcecfc3f",
   "metadata": {
    "papermill": {
     "duration": 0.006418,
     "end_time": "2023-05-24T04:19:04.998218",
     "exception": false,
     "start_time": "2023-05-24T04:19:04.991800",
     "status": "completed"
    },
    "tags": []
   },
   "source": [
    "**Using KNN**"
   ]
  },
  {
   "cell_type": "code",
   "execution_count": 11,
   "id": "7d69a22a",
   "metadata": {
    "execution": {
     "iopub.execute_input": "2023-05-24T04:19:05.013076Z",
     "iopub.status.busy": "2023-05-24T04:19:05.012725Z",
     "iopub.status.idle": "2023-05-24T04:19:05.227502Z",
     "shell.execute_reply": "2023-05-24T04:19:05.226354Z"
    },
    "papermill": {
     "duration": 0.224944,
     "end_time": "2023-05-24T04:19:05.229944",
     "exception": false,
     "start_time": "2023-05-24T04:19:05.005000",
     "status": "completed"
    },
    "tags": []
   },
   "outputs": [],
   "source": [
    "from sklearn.neighbors import KNeighborsClassifier"
   ]
  },
  {
   "cell_type": "code",
   "execution_count": 12,
   "id": "96a4966f",
   "metadata": {
    "execution": {
     "iopub.execute_input": "2023-05-24T04:19:05.246422Z",
     "iopub.status.busy": "2023-05-24T04:19:05.246091Z",
     "iopub.status.idle": "2023-05-24T04:19:05.250981Z",
     "shell.execute_reply": "2023-05-24T04:19:05.249902Z"
    },
    "papermill": {
     "duration": 0.015836,
     "end_time": "2023-05-24T04:19:05.252847",
     "exception": false,
     "start_time": "2023-05-24T04:19:05.237011",
     "status": "completed"
    },
    "tags": []
   },
   "outputs": [],
   "source": [
    "knn = KNeighborsClassifier(n_neighbors=5)"
   ]
  },
  {
   "cell_type": "code",
   "execution_count": 13,
   "id": "5ee04802",
   "metadata": {
    "execution": {
     "iopub.execute_input": "2023-05-24T04:19:05.267925Z",
     "iopub.status.busy": "2023-05-24T04:19:05.267573Z",
     "iopub.status.idle": "2023-05-24T04:19:05.282857Z",
     "shell.execute_reply": "2023-05-24T04:19:05.281744Z"
    },
    "papermill": {
     "duration": 0.025486,
     "end_time": "2023-05-24T04:19:05.285274",
     "exception": false,
     "start_time": "2023-05-24T04:19:05.259788",
     "status": "completed"
    },
    "tags": []
   },
   "outputs": [
    {
     "data": {
      "text/html": [
       "<style>#sk-container-id-1 {color: black;background-color: white;}#sk-container-id-1 pre{padding: 0;}#sk-container-id-1 div.sk-toggleable {background-color: white;}#sk-container-id-1 label.sk-toggleable__label {cursor: pointer;display: block;width: 100%;margin-bottom: 0;padding: 0.3em;box-sizing: border-box;text-align: center;}#sk-container-id-1 label.sk-toggleable__label-arrow:before {content: \"▸\";float: left;margin-right: 0.25em;color: #696969;}#sk-container-id-1 label.sk-toggleable__label-arrow:hover:before {color: black;}#sk-container-id-1 div.sk-estimator:hover label.sk-toggleable__label-arrow:before {color: black;}#sk-container-id-1 div.sk-toggleable__content {max-height: 0;max-width: 0;overflow: hidden;text-align: left;background-color: #f0f8ff;}#sk-container-id-1 div.sk-toggleable__content pre {margin: 0.2em;color: black;border-radius: 0.25em;background-color: #f0f8ff;}#sk-container-id-1 input.sk-toggleable__control:checked~div.sk-toggleable__content {max-height: 200px;max-width: 100%;overflow: auto;}#sk-container-id-1 input.sk-toggleable__control:checked~label.sk-toggleable__label-arrow:before {content: \"▾\";}#sk-container-id-1 div.sk-estimator input.sk-toggleable__control:checked~label.sk-toggleable__label {background-color: #d4ebff;}#sk-container-id-1 div.sk-label input.sk-toggleable__control:checked~label.sk-toggleable__label {background-color: #d4ebff;}#sk-container-id-1 input.sk-hidden--visually {border: 0;clip: rect(1px 1px 1px 1px);clip: rect(1px, 1px, 1px, 1px);height: 1px;margin: -1px;overflow: hidden;padding: 0;position: absolute;width: 1px;}#sk-container-id-1 div.sk-estimator {font-family: monospace;background-color: #f0f8ff;border: 1px dotted black;border-radius: 0.25em;box-sizing: border-box;margin-bottom: 0.5em;}#sk-container-id-1 div.sk-estimator:hover {background-color: #d4ebff;}#sk-container-id-1 div.sk-parallel-item::after {content: \"\";width: 100%;border-bottom: 1px solid gray;flex-grow: 1;}#sk-container-id-1 div.sk-label:hover label.sk-toggleable__label {background-color: #d4ebff;}#sk-container-id-1 div.sk-serial::before {content: \"\";position: absolute;border-left: 1px solid gray;box-sizing: border-box;top: 0;bottom: 0;left: 50%;z-index: 0;}#sk-container-id-1 div.sk-serial {display: flex;flex-direction: column;align-items: center;background-color: white;padding-right: 0.2em;padding-left: 0.2em;position: relative;}#sk-container-id-1 div.sk-item {position: relative;z-index: 1;}#sk-container-id-1 div.sk-parallel {display: flex;align-items: stretch;justify-content: center;background-color: white;position: relative;}#sk-container-id-1 div.sk-item::before, #sk-container-id-1 div.sk-parallel-item::before {content: \"\";position: absolute;border-left: 1px solid gray;box-sizing: border-box;top: 0;bottom: 0;left: 50%;z-index: -1;}#sk-container-id-1 div.sk-parallel-item {display: flex;flex-direction: column;z-index: 1;position: relative;background-color: white;}#sk-container-id-1 div.sk-parallel-item:first-child::after {align-self: flex-end;width: 50%;}#sk-container-id-1 div.sk-parallel-item:last-child::after {align-self: flex-start;width: 50%;}#sk-container-id-1 div.sk-parallel-item:only-child::after {width: 0;}#sk-container-id-1 div.sk-dashed-wrapped {border: 1px dashed gray;margin: 0 0.4em 0.5em 0.4em;box-sizing: border-box;padding-bottom: 0.4em;background-color: white;}#sk-container-id-1 div.sk-label label {font-family: monospace;font-weight: bold;display: inline-block;line-height: 1.2em;}#sk-container-id-1 div.sk-label-container {text-align: center;}#sk-container-id-1 div.sk-container {/* jupyter's `normalize.less` sets `[hidden] { display: none; }` but bootstrap.min.css set `[hidden] { display: none !important; }` so we also need the `!important` here to be able to override the default hidden behavior on the sphinx rendered scikit-learn.org. See: https://github.com/scikit-learn/scikit-learn/issues/21755 */display: inline-block !important;position: relative;}#sk-container-id-1 div.sk-text-repr-fallback {display: none;}</style><div id=\"sk-container-id-1\" class=\"sk-top-container\"><div class=\"sk-text-repr-fallback\"><pre>KNeighborsClassifier()</pre><b>In a Jupyter environment, please rerun this cell to show the HTML representation or trust the notebook. <br />On GitHub, the HTML representation is unable to render, please try loading this page with nbviewer.org.</b></div><div class=\"sk-container\" hidden><div class=\"sk-item\"><div class=\"sk-estimator sk-toggleable\"><input class=\"sk-toggleable__control sk-hidden--visually\" id=\"sk-estimator-id-1\" type=\"checkbox\" checked><label for=\"sk-estimator-id-1\" class=\"sk-toggleable__label sk-toggleable__label-arrow\">KNeighborsClassifier</label><div class=\"sk-toggleable__content\"><pre>KNeighborsClassifier()</pre></div></div></div></div></div>"
      ],
      "text/plain": [
       "KNeighborsClassifier()"
      ]
     },
     "execution_count": 13,
     "metadata": {},
     "output_type": "execute_result"
    }
   ],
   "source": [
    "knn.fit(X_train,y_train)"
   ]
  },
  {
   "cell_type": "markdown",
   "id": "05f98b62",
   "metadata": {
    "papermill": {
     "duration": 0.006622,
     "end_time": "2023-05-24T04:19:05.299389",
     "exception": false,
     "start_time": "2023-05-24T04:19:05.292767",
     "status": "completed"
    },
    "tags": []
   },
   "source": [
    "**Time for prediction and evalutation**"
   ]
  },
  {
   "cell_type": "code",
   "execution_count": 14,
   "id": "e8e16e85",
   "metadata": {
    "execution": {
     "iopub.execute_input": "2023-05-24T04:19:05.314865Z",
     "iopub.status.busy": "2023-05-24T04:19:05.314505Z",
     "iopub.status.idle": "2023-05-24T04:19:05.367009Z",
     "shell.execute_reply": "2023-05-24T04:19:05.365887Z"
    },
    "papermill": {
     "duration": 0.063222,
     "end_time": "2023-05-24T04:19:05.369366",
     "exception": false,
     "start_time": "2023-05-24T04:19:05.306144",
     "status": "completed"
    },
    "tags": []
   },
   "outputs": [],
   "source": [
    "pred = knn.predict(X_test)"
   ]
  },
  {
   "cell_type": "markdown",
   "id": "b2413700",
   "metadata": {
    "papermill": {
     "duration": 0.006661,
     "end_time": "2023-05-24T04:19:05.383045",
     "exception": false,
     "start_time": "2023-05-24T04:19:05.376384",
     "status": "completed"
    },
    "tags": []
   },
   "source": [
    "**evalutation**"
   ]
  },
  {
   "cell_type": "code",
   "execution_count": 15,
   "id": "cc4b06c5",
   "metadata": {
    "execution": {
     "iopub.execute_input": "2023-05-24T04:19:05.398360Z",
     "iopub.status.busy": "2023-05-24T04:19:05.397483Z",
     "iopub.status.idle": "2023-05-24T04:19:05.401645Z",
     "shell.execute_reply": "2023-05-24T04:19:05.400758Z"
    },
    "papermill": {
     "duration": 0.013607,
     "end_time": "2023-05-24T04:19:05.403230",
     "exception": false,
     "start_time": "2023-05-24T04:19:05.389623",
     "status": "completed"
    },
    "tags": []
   },
   "outputs": [],
   "source": [
    "from sklearn.metrics import classification_report,confusion_matrix"
   ]
  },
  {
   "cell_type": "code",
   "execution_count": 16,
   "id": "344189da",
   "metadata": {
    "execution": {
     "iopub.execute_input": "2023-05-24T04:19:05.419334Z",
     "iopub.status.busy": "2023-05-24T04:19:05.418340Z",
     "iopub.status.idle": "2023-05-24T04:19:05.431259Z",
     "shell.execute_reply": "2023-05-24T04:19:05.430408Z"
    },
    "papermill": {
     "duration": 0.023089,
     "end_time": "2023-05-24T04:19:05.433034",
     "exception": false,
     "start_time": "2023-05-24T04:19:05.409945",
     "status": "completed"
    },
    "tags": []
   },
   "outputs": [
    {
     "name": "stdout",
     "output_type": "stream",
     "text": [
      "              precision    recall  f1-score   support\n",
      "\n",
      "           0       0.75      0.91      0.82       117\n",
      "           1       0.77      0.51      0.61        71\n",
      "\n",
      "    accuracy                           0.76       188\n",
      "   macro avg       0.76      0.71      0.72       188\n",
      "weighted avg       0.76      0.76      0.74       188\n",
      "\n"
     ]
    }
   ],
   "source": [
    "print(classification_report(y_test,pred))"
   ]
  },
  {
   "cell_type": "code",
   "execution_count": 17,
   "id": "ea9123e0",
   "metadata": {
    "execution": {
     "iopub.execute_input": "2023-05-24T04:19:05.449287Z",
     "iopub.status.busy": "2023-05-24T04:19:05.448726Z",
     "iopub.status.idle": "2023-05-24T04:19:05.457201Z",
     "shell.execute_reply": "2023-05-24T04:19:05.456216Z"
    },
    "papermill": {
     "duration": 0.018388,
     "end_time": "2023-05-24T04:19:05.458842",
     "exception": false,
     "start_time": "2023-05-24T04:19:05.440454",
     "status": "completed"
    },
    "tags": []
   },
   "outputs": [
    {
     "name": "stdout",
     "output_type": "stream",
     "text": [
      "[[106  11]\n",
      " [ 35  36]]\n"
     ]
    }
   ],
   "source": [
    "print(confusion_matrix(y_test,pred))"
   ]
  },
  {
   "cell_type": "markdown",
   "id": "6fa22746",
   "metadata": {
    "papermill": {
     "duration": 0.006506,
     "end_time": "2023-05-24T04:19:05.472529",
     "exception": false,
     "start_time": "2023-05-24T04:19:05.466023",
     "status": "completed"
    },
    "tags": []
   },
   "source": [
    "**Find the best possible K value**"
   ]
  },
  {
   "cell_type": "code",
   "execution_count": 18,
   "id": "a4e222bf",
   "metadata": {
    "execution": {
     "iopub.execute_input": "2023-05-24T04:19:05.488135Z",
     "iopub.status.busy": "2023-05-24T04:19:05.487561Z",
     "iopub.status.idle": "2023-05-24T04:19:05.833041Z",
     "shell.execute_reply": "2023-05-24T04:19:05.831813Z"
    },
    "papermill": {
     "duration": 0.356391,
     "end_time": "2023-05-24T04:19:05.835689",
     "exception": false,
     "start_time": "2023-05-24T04:19:05.479298",
     "status": "completed"
    },
    "tags": []
   },
   "outputs": [],
   "source": [
    "error_rate = []\n",
    "for i in range(1,40):\n",
    "    knn = KNeighborsClassifier(n_neighbors=i)\n",
    "    knn.fit(X_train,y_train)\n",
    "    pred_i = knn.predict(X_test)\n",
    "    error_rate.append(np.mean(pred_i != y_test))\n",
    "\n",
    "    \n"
   ]
  },
  {
   "cell_type": "markdown",
   "id": "8e947337",
   "metadata": {
    "papermill": {
     "duration": 0.008417,
     "end_time": "2023-05-24T04:19:05.854886",
     "exception": false,
     "start_time": "2023-05-24T04:19:05.846469",
     "status": "completed"
    },
    "tags": []
   },
   "source": [
    "**Plot K values**"
   ]
  },
  {
   "cell_type": "code",
   "execution_count": 19,
   "id": "dbece28f",
   "metadata": {
    "execution": {
     "iopub.execute_input": "2023-05-24T04:19:05.878324Z",
     "iopub.status.busy": "2023-05-24T04:19:05.877914Z",
     "iopub.status.idle": "2023-05-24T04:19:06.126347Z",
     "shell.execute_reply": "2023-05-24T04:19:06.125476Z"
    },
    "papermill": {
     "duration": 0.261045,
     "end_time": "2023-05-24T04:19:06.128232",
     "exception": false,
     "start_time": "2023-05-24T04:19:05.867187",
     "status": "completed"
    },
    "tags": []
   },
   "outputs": [
    {
     "data": {
      "text/plain": [
       "Text(0, 0.5, 'Error Rate')"
      ]
     },
     "execution_count": 19,
     "metadata": {},
     "output_type": "execute_result"
    },
    {
     "data": {
      "image/png": "[encoded data removed]",
      "text/plain": [
       "<Figure size 640x480 with 1 Axes>"
      ]
     },
     "metadata": {},
     "output_type": "display_data"
    }
   ],
   "source": [
    "plt.plot(range(1,40),error_rate,marker=\"o\",c=\"r\",markerfacecolor=\"b\")\n",
    "plt.title('Error Rate vs. K Value')\n",
    "plt.xlabel('K')\n",
    "plt.ylabel('Error Rate')"
   ]
  },
  {
   "cell_type": "markdown",
   "id": "5c9dfde3",
   "metadata": {
    "papermill": {
     "duration": 0.007369,
     "end_time": "2023-05-24T04:19:06.143383",
     "exception": false,
     "start_time": "2023-05-24T04:19:06.136014",
     "status": "completed"
    },
    "tags": []
   },
   "source": [
    "**Retrain with new K value**"
   ]
  },
  {
   "cell_type": "code",
   "execution_count": 20,
   "id": "5ba78a33",
   "metadata": {
    "execution": {
     "iopub.execute_input": "2023-05-24T04:19:06.160974Z",
     "iopub.status.busy": "2023-05-24T04:19:06.159312Z",
     "iopub.status.idle": "2023-05-24T04:19:06.177789Z",
     "shell.execute_reply": "2023-05-24T04:19:06.176751Z"
    },
    "papermill": {
     "duration": 0.029287,
     "end_time": "2023-05-24T04:19:06.180060",
     "exception": false,
     "start_time": "2023-05-24T04:19:06.150773",
     "status": "completed"
    },
    "tags": []
   },
   "outputs": [],
   "source": [
    "knn = KNeighborsClassifier(n_neighbors=1)\n",
    "knn.fit(X_train,y_train)\n",
    "pred = knn.predict(X_test)"
   ]
  },
  {
   "cell_type": "code",
   "execution_count": 21,
   "id": "85553b06",
   "metadata": {
    "execution": {
     "iopub.execute_input": "2023-05-24T04:19:06.196838Z",
     "iopub.status.busy": "2023-05-24T04:19:06.196485Z",
     "iopub.status.idle": "2023-05-24T04:19:06.207817Z",
     "shell.execute_reply": "2023-05-24T04:19:06.206583Z"
    },
    "papermill": {
     "duration": 0.021718,
     "end_time": "2023-05-24T04:19:06.209666",
     "exception": false,
     "start_time": "2023-05-24T04:19:06.187948",
     "status": "completed"
    },
    "tags": []
   },
   "outputs": [
    {
     "name": "stdout",
     "output_type": "stream",
     "text": [
      "              precision    recall  f1-score   support\n",
      "\n",
      "           0       0.83      0.90      0.86       117\n",
      "           1       0.81      0.70      0.75        71\n",
      "\n",
      "    accuracy                           0.82       188\n",
      "   macro avg       0.82      0.80      0.81       188\n",
      "weighted avg       0.82      0.82      0.82       188\n",
      "\n"
     ]
    }
   ],
   "source": [
    "print(classification_report(y_test,pred))"
   ]
  },
  {
   "cell_type": "code",
   "execution_count": 22,
   "id": "d220bb3e",
   "metadata": {
    "execution": {
     "iopub.execute_input": "2023-05-24T04:19:06.226879Z",
     "iopub.status.busy": "2023-05-24T04:19:06.226517Z",
     "iopub.status.idle": "2023-05-24T04:19:06.233468Z",
     "shell.execute_reply": "2023-05-24T04:19:06.232320Z"
    },
    "papermill": {
     "duration": 0.017832,
     "end_time": "2023-05-24T04:19:06.235234",
     "exception": false,
     "start_time": "2023-05-24T04:19:06.217402",
     "status": "completed"
    },
    "tags": []
   },
   "outputs": [
    {
     "name": "stdout",
     "output_type": "stream",
     "text": [
      "[[105  12]\n",
      " [ 21  50]]\n"
     ]
    }
   ],
   "source": [
    "print(confusion_matrix(y_test,pred))"
   ]
  }
 ],
 "metadata": {
  "kernelspec": {
   "display_name": "Python 3",
   "language": "python",
   "name": "python3"
  },
  "language_info": {
   "codemirror_mode": {
    "name": "ipython",
    "version": 3
   },
   "file_extension": ".py",
   "mimetype": "text/x-python",
   "name": "python",
   "nbconvert_exporter": "python",
   "pygments_lexer": "ipython3",
   "version": "3.10.10"
  },
  "papermill": {
   "default_parameters": {},
   "duration": 13.220838,
   "end_time": "2023-05-24T04:19:07.163797",
   "environment_variables": {},
   "exception": null,
   "input_path": "__notebook__.ipynb",
   "output_path": "__notebook__.ipynb",
   "parameters": {},
   "start_time": "2023-05-24T04:18:53.942959",
   "version": "2.4.0"
  }
 },
 "nbformat": 4,
 "nbformat_minor": 5
}
